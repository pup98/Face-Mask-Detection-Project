{
  "cells": [
    {
      "attachments": {},
      "cell_type": "markdown",
      "metadata": {},
      "source": [
        "# Face Detection Project"
      ]
    },
    {
      "cell_type": "code",
      "execution_count": 10,
      "metadata": {},
      "outputs": [],
      "source": [
        "import os\n",
        "from glob import glob"
      ]
    },
    {
      "cell_type": "markdown",
      "metadata": {},
      "source": [
        "So, we have 2 folders, one with images of normal people and the other with images of Tom Cruise.\n",
        "Since, we have only 100 images of Tom Cruise, we will have to use augmentation to increase the \n",
        "sample size. In total the goal is to, get around 600 images for both the category"
      ]
    },
    {
      "cell_type": "markdown",
      "metadata": {
        "id": "nHCFhauk7mRZ"
      },
      "source": [
        "# Data Preprocessing"
      ]
    },
    {
      "cell_type": "code",
      "execution_count": 13,
      "metadata": {
        "colab": {
          "base_uri": "https://localhost:8080/"
        },
        "id": "IaVtgXSatTpu",
        "outputId": "879ecf75-15f8-46ba-abe7-3d4424247399"
      },
      "outputs": [
        {
          "name": "stdout",
          "output_type": "stream",
          "text": [
            "{'normal people': 0, 'Tom Cruise': 1}\n",
            "['normal people', 'Tom Cruise']\n",
            "[0, 1]\n"
          ]
        }
      ],
      "source": [
        "import cv2, os\n",
        "\n",
        "dataset_path = 'F:\\My_Disk\\python\\Projects\\image data\\data'\n",
        "categories = os.listdir(dataset_path)\n",
        "labels = [i for i in range(len(categories))]\n",
        "\n",
        "label_dict = dict(zip(categories,labels)) #empty dictionary\n",
        "\n",
        "print(label_dict)\n",
        "print(categories)\n",
        "print(labels)\n"
      ]
    },
    {
      "cell_type": "markdown",
      "metadata": {},
      "source": [
        "### Add new images to tom cruise folder, using augmentation"
      ]
    },
    {
      "cell_type": "code",
      "execution_count": 4,
      "metadata": {},
      "outputs": [
        {
          "name": "stdout",
          "output_type": "stream",
          "text": [
            "Initialised with 100 image(s) found.\n",
            "Output directory set to F:\\My_Disk\\python\\Projects\\image data\\data\\Tom Cruise\\output."
          ]
        },
        {
          "name": "stderr",
          "output_type": "stream",
          "text": [
            "Processing <PIL.Image.Image image mode=RGB size=160x160 at 0x213C166CB50>: 100%|██████████| 500/500 [00:09<00:00, 52.09 Samples/s]                  \n"
          ]
        }
      ],
      "source": [
        "tom_cruise = dataset_path+'\\Tom Cruise'\n",
        "import Augmentor\n",
        "\n",
        "p = Augmentor.Pipeline(tom_cruise)\n",
        "p.rotate(probability=0.7, max_left_rotation=10, max_right_rotation=10)\n",
        "p.sample(500) ## We are adding 500 samples per class to make sure that none of the classes are sparse."
      ]
    },
    {
      "cell_type": "code",
      "execution_count": 3,
      "metadata": {
        "id": "9rwCOl9Ev5hj"
      },
      "outputs": [],
      "source": [
        "img_size = 100\n",
        "data = []\n",
        "target = []\n",
        "\n",
        "\n",
        "for category in categories:\n",
        "    folder_path = os.path.join(dataset_path,category)\n",
        "    img_names = os.listdir(folder_path)\n",
        "        \n",
        "    for img_name in img_names:\n",
        "        img_path = os.path.join(folder_path,img_name)\n",
        "        img = cv2.imread(img_path)\n",
        "        \n",
        "\n",
        "        try:\n",
        "            if(img is not None):\n",
        "                gray = cv2.cvtColor(img,cv2.COLOR_BGR2GRAY)           \n",
        "                #Coverting the image into gray scale\n",
        "                resized=cv2.resize(gray,(img_size,img_size))\n",
        "                #resizing the gray scale into 50x50, since we need a fixed common size for all the images in the dataset\n",
        "                data.append(resized)\n",
        "                target.append(label_dict[category])\n",
        "                #appending the image and the label(categorized) into the list (dataset)\n",
        "\n",
        "        except Exception as e:\n",
        "            print('Exception:',e)\n",
        "            #if any exception rasied, the exception will be printed here. And pass to the next image\n"
      ]
    },
    {
      "cell_type": "code",
      "execution_count": 26,
      "metadata": {},
      "outputs": [],
      "source": [
        "import tensorflow as tf\n",
        "from tensorflow import keras\n",
        "from tensorflow.keras import layers\n",
        "from tensorflow.keras.models import Sequential\n",
        "from tensorflow.keras.utils import to_categorical"
      ]
    },
    {
      "cell_type": "code",
      "execution_count": 22,
      "metadata": {
        "id": "6Pj0pzwc4ZgI"
      },
      "outputs": [],
      "source": [
        "import numpy as np\n",
        "from numpy import save\n",
        "data = np.array(data)/255.0\n",
        "data = np.reshape(data,(data.shape[0],img_size,img_size,1))\n",
        "target = np.array(target)\n",
        "\n",
        "new_target = to_categorical(target)"
      ]
    },
    {
      "cell_type": "code",
      "execution_count": 21,
      "metadata": {
        "id": "kJWDl_Ju4dqv"
      },
      "outputs": [],
      "source": [
        "save('data.npy',data)\n",
        "save('target.npy',new_target)"
      ]
    },
    {
      "cell_type": "code",
      "execution_count": 23,
      "metadata": {
        "id": "mRezqtppFXKy"
      },
      "outputs": [],
      "source": [
        "data=np.load('data.npy')\n",
        "target=np.load('target.npy')"
      ]
    },
    {
      "cell_type": "markdown",
      "metadata": {
        "id": "SbE31-FfNP0Q"
      },
      "source": [
        "# Model "
      ]
    },
    {
      "cell_type": "code",
      "execution_count": 28,
      "metadata": {
        "id": "9d8FZKB0FihL"
      },
      "outputs": [],
      "source": [
        "from tensorflow.keras.models import Sequential\n",
        "from tensorflow.keras.layers import Dense,Activation,Flatten,Dropout\n",
        "from tensorflow.keras.layers import Conv2D,MaxPooling2D\n",
        "from tensorflow.keras.callbacks import ModelCheckpoint\n",
        "\n",
        "model=Sequential()\n",
        "\n",
        "model.add(Conv2D(200,(3,3),input_shape=data.shape[1:]))\n",
        "model.add(Activation('relu'))\n",
        "model.add(MaxPooling2D(pool_size=(2,2)))\n",
        "#The first CNN layer followed by Relu and MaxPooling layers\n",
        "\n",
        "model.add(Conv2D(100,(3,3)))\n",
        "model.add(Activation('relu'))\n",
        "model.add(MaxPooling2D(pool_size=(2,2)))\n",
        "#The second convolution layer followed by Relu and MaxPooling layers\n",
        "\n",
        "model.add(Conv2D(100,(3,3)))\n",
        "model.add(Activation('relu'))\n",
        "model.add(MaxPooling2D(pool_size=(2,2)))\n",
        "\n",
        "model.add(Flatten())\n",
        "model.add(Dropout(0.5))\n",
        "#Flatten layer to stack the output convolutions from second convolution layer\n",
        "model.add(Dense(50,activation='relu'))\n",
        "#Dense layer of 64 neurons\n",
        "model.add(Dense(2,activation='softmax'))\n",
        "#The Final layer with two outputs for two categories\n",
        "\n",
        "model.compile(loss='categorical_crossentropy',optimizer='adam',metrics=['accuracy'])\n"
      ]
    },
    {
      "cell_type": "code",
      "execution_count": 29,
      "metadata": {
        "id": "hO5SSwgMMoTv"
      },
      "outputs": [],
      "source": [
        "from sklearn.model_selection import train_test_split\n",
        "\n",
        "train_data,test_data,train_target,test_target = train_test_split(data,target,test_size=0.25)\n"
      ]
    },
    {
      "cell_type": "code",
      "execution_count": 30,
      "metadata": {
        "colab": {
          "base_uri": "https://localhost:8080/"
        },
        "id": "-H57acpKM2Bs",
        "outputId": "b7dc4fe0-53dd-4fc5-d047-f22c5d1e1f1c"
      },
      "outputs": [
        {
          "name": "stdout",
          "output_type": "stream",
          "text": [
            "Epoch 1/10\n",
            "30/30 [==============================] - ETA: 0s - loss: 0.6863 - accuracy: 0.5672INFO:tensorflow:Assets written to: model-001.model\\assets\n"
          ]
        },
        {
          "name": "stderr",
          "output_type": "stream",
          "text": [
            "INFO:tensorflow:Assets written to: model-001.model\\assets\n"
          ]
        },
        {
          "name": "stdout",
          "output_type": "stream",
          "text": [
            "30/30 [==============================] - 69s 2s/step - loss: 0.6863 - accuracy: 0.5672 - val_loss: 0.5857 - val_accuracy: 0.7553\n",
            "Epoch 2/10\n",
            "30/30 [==============================] - ETA: 0s - loss: 0.4983 - accuracy: 0.7503INFO:tensorflow:Assets written to: model-002.model\\assets\n"
          ]
        },
        {
          "name": "stderr",
          "output_type": "stream",
          "text": [
            "INFO:tensorflow:Assets written to: model-002.model\\assets\n"
          ]
        },
        {
          "name": "stdout",
          "output_type": "stream",
          "text": [
            "30/30 [==============================] - 59s 2s/step - loss: 0.4983 - accuracy: 0.7503 - val_loss: 0.3928 - val_accuracy: 0.8186\n",
            "Epoch 3/10\n",
            "30/30 [==============================] - 58s 2s/step - loss: 0.3361 - accuracy: 0.8603 - val_loss: 0.4000 - val_accuracy: 0.8143\n",
            "Epoch 4/10\n",
            "30/30 [==============================] - ETA: 0s - loss: 0.2925 - accuracy: 0.8751INFO:tensorflow:Assets written to: model-004.model\\assets\n"
          ]
        },
        {
          "name": "stderr",
          "output_type": "stream",
          "text": [
            "INFO:tensorflow:Assets written to: model-004.model\\assets\n"
          ]
        },
        {
          "name": "stdout",
          "output_type": "stream",
          "text": [
            "30/30 [==============================] - 60s 2s/step - loss: 0.2925 - accuracy: 0.8751 - val_loss: 0.2428 - val_accuracy: 0.9030\n",
            "Epoch 5/10\n",
            "30/30 [==============================] - ETA: 0s - loss: 0.1989 - accuracy: 0.9132INFO:tensorflow:Assets written to: model-005.model\\assets\n"
          ]
        },
        {
          "name": "stderr",
          "output_type": "stream",
          "text": [
            "INFO:tensorflow:Assets written to: model-005.model\\assets\n"
          ]
        },
        {
          "name": "stdout",
          "output_type": "stream",
          "text": [
            "30/30 [==============================] - 61s 2s/step - loss: 0.1989 - accuracy: 0.9132 - val_loss: 0.2078 - val_accuracy: 0.9156\n",
            "Epoch 6/10\n",
            "30/30 [==============================] - 57s 2s/step - loss: 0.1466 - accuracy: 0.9397 - val_loss: 0.2260 - val_accuracy: 0.8987\n",
            "Epoch 7/10\n",
            "30/30 [==============================] - ETA: 0s - loss: 0.1277 - accuracy: 0.9481INFO:tensorflow:Assets written to: model-007.model\\assets\n"
          ]
        },
        {
          "name": "stderr",
          "output_type": "stream",
          "text": [
            "INFO:tensorflow:Assets written to: model-007.model\\assets\n"
          ]
        },
        {
          "name": "stdout",
          "output_type": "stream",
          "text": [
            "30/30 [==============================] - 59s 2s/step - loss: 0.1277 - accuracy: 0.9481 - val_loss: 0.1872 - val_accuracy: 0.9114\n",
            "Epoch 8/10\n",
            "30/30 [==============================] - 57s 2s/step - loss: 0.1087 - accuracy: 0.9587 - val_loss: 0.1974 - val_accuracy: 0.9325\n",
            "Epoch 9/10\n",
            "30/30 [==============================] - ETA: 0s - loss: 0.0970 - accuracy: 0.9640INFO:tensorflow:Assets written to: model-009.model\\assets\n"
          ]
        },
        {
          "name": "stderr",
          "output_type": "stream",
          "text": [
            "INFO:tensorflow:Assets written to: model-009.model\\assets\n"
          ]
        },
        {
          "name": "stdout",
          "output_type": "stream",
          "text": [
            "30/30 [==============================] - 61s 2s/step - loss: 0.0970 - accuracy: 0.9640 - val_loss: 0.1637 - val_accuracy: 0.9283\n",
            "Epoch 10/10\n",
            "30/30 [==============================] - 56s 2s/step - loss: 0.0593 - accuracy: 0.9746 - val_loss: 0.1874 - val_accuracy: 0.9325\n"
          ]
        }
      ],
      "source": [
        "checkpoint = ModelCheckpoint('model-{epoch:03d}.model',monitor='val_loss',verbose=0,save_best_only=True,mode='auto')\n",
        "trained_model = model.fit(train_data,train_target,epochs=10,callbacks=[checkpoint],validation_split=0.2)"
      ]
    },
    {
      "cell_type": "code",
      "execution_count": 31,
      "metadata": {
        "colab": {
          "base_uri": "https://localhost:8080/",
          "height": 279
        },
        "id": "ZtIleL-ENcZO",
        "outputId": "e8856a05-02e8-4bff-a42c-9b001b9e3ab5"
      },
      "outputs": [
        {
          "data": {
            "image/png": "[encoded data removed]",
            "text/plain": [
              "<Figure size 640x480 with 1 Axes>"
            ]
          },
          "metadata": {},
          "output_type": "display_data"
        }
      ],
      "source": [
        "from matplotlib import pyplot as plt\n",
        "\n",
        "plt.plot(trained_model.history['loss'],'r',label='training loss')\n",
        "plt.plot(trained_model.history['val_loss'],label='validation loss')\n",
        "plt.xlabel('# epochs')\n",
        "plt.ylabel('loss')\n",
        "plt.legend()\n",
        "plt.show()\n"
      ]
    },
    {
      "cell_type": "code",
      "execution_count": 32,
      "metadata": {
        "colab": {
          "base_uri": "https://localhost:8080/",
          "height": 279
        },
        "id": "i1GdQweaNgfl",
        "outputId": "c23fa265-a274-4faa-e7a5-f5ec0dfe8617"
      },
      "outputs": [
        {
          "data": {
            "image/png": "[encoded data removed]",
            "text/plain": [
              "<Figure size 640x480 with 1 Axes>"
            ]
          },
          "metadata": {},
          "output_type": "display_data"
        }
      ],
      "source": [
        "plt.plot(trained_model.history['accuracy'],'r',label='training accuracy')\n",
        "plt.plot(trained_model.history['val_accuracy'],label='validation accuracy')\n",
        "plt.xlabel('# epochs')\n",
        "plt.ylabel('loss')\n",
        "plt.legend()\n",
        "plt.show()"
      ]
    },
    {
      "cell_type": "code",
      "execution_count": 33,
      "metadata": {
        "colab": {
          "base_uri": "https://localhost:8080/"
        },
        "id": "qEpGMnNhNnM8",
        "outputId": "5d7bce99-8389-4465-d5da-cb9300fd29d8"
      },
      "outputs": [
        {
          "name": "stdout",
          "output_type": "stream",
          "text": [
            "13/13 [==============================] - 7s 527ms/step - loss: 0.1353 - accuracy: 0.9519\n",
            "[0.1353016197681427, 0.9518987536430359]\n"
          ]
        }
      ],
      "source": [
        "print(model.evaluate(test_data,test_target))"
      ]
    },
    {
      "cell_type": "code",
      "execution_count": 34,
      "metadata": {
        "id": "5U_VVHMnNpW3"
      },
      "outputs": [
        {
          "name": "stderr",
          "output_type": "stream",
          "text": [
            "f:\\My_Disk\\python\\Projects\\image data\\venv\\Lib\\site-packages\\keras\\src\\engine\\training.py:3000: UserWarning: You are saving your model as an HDF5 file via `model.save()`. This file format is considered legacy. We recommend using instead the native Keras format, e.g. `model.save('my_model.keras')`.\n",
            "  saving_api.save_model(\n"
          ]
        }
      ],
      "source": [
        "model.save(\"tomcruise_detector.model\", save_format=\"h5\")"
      ]
    },
    {
      "cell_type": "code",
      "execution_count": 30,
      "metadata": {},
      "outputs": [],
      "source": [
        "# from sklearn.metrics import classification_report, confusion_matrix\n",
        "# cnf_matrix = confusion_matrix(train_target, test_target, labels=[0,1])\n",
        "# np.set_printoptions(precision=2)\n",
        "\n",
        "# print (classification_report(train_target, test_target))\n",
        "\n",
        "# import seaborn as sns\n",
        "\n",
        "# ax = sns.heatmap(cnf_matrix, annot=True, cmap='Blues')\n",
        "\n",
        "# ax.set_title('Seaborn Confusion Matrix with labels\\n\\n')\n",
        "# ax.set_xlabel('\\nPredicted Values')\n",
        "# ax.set_ylabel('\\nActual Values ')\n",
        "\n",
        "# ## Ticket labels - List must be in alphabetical order\n",
        "# ax.xaxis.set_ticklabels(['1: Mask', '0: No Mask'])\n",
        "# ax.yaxis.set_ticklabels(['1: Mask','0: No Mask'])\n",
        "\n",
        "# ## Display the visualization of the Confusion Matrix.\n",
        "\n",
        "# plt.show()"
      ]
    }
  ],
  "metadata": {
    "accelerator": "GPU",
    "colab": {
      "provenance": []
    },
    "gpuClass": "standard",
    "kernelspec": {
      "display_name": "Python 3.9.2 ('hta_project': venv)",
      "language": "python",
      "name": "python3"
    },
    "language_info": {
      "codemirror_mode": {
        "name": "ipython",
        "version": 3
      },
      "file_extension": ".py",
      "mimetype": "text/x-python",
      "name": "python",
      "nbconvert_exporter": "python",
      "pygments_lexer": "ipython3",
      "version": "3.11.4"
    },
    "vscode": {
      "interpreter": {
        "hash": "99df2f63beb8f11f099f65d50066702a1a3973158c2ed0e35e5c60cc205e54c3"
      }
    }
  },
  "nbformat": 4,
  "nbformat_minor": 0
}
